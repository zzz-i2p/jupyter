{
 "cells": [
  {
   "cell_type": "code",
   "execution_count": 2,
   "metadata": {},
   "outputs": [
    {
     "data": {
      "text/plain": [
       "'C:\\\\Users\\\\zzz\\\\AppData\\\\Local\\\\Temp\\\\tmpsl8e13p1'"
      ]
     },
     "execution_count": 2,
     "metadata": {},
     "output_type": "execute_result"
    }
   ],
   "source": [
    "import tempfile\n",
    "tf = tempfile.NamedTemporaryFile()\n",
    "tf.name"
   ]
  },
  {
   "cell_type": "code",
   "execution_count": 3,
   "metadata": {},
   "outputs": [
    {
     "data": {
      "text/plain": [
       "'C:\\\\Users\\\\zzz\\\\AppData\\\\Local\\\\Temp\\\\tmpe097nyol'"
      ]
     },
     "execution_count": 3,
     "metadata": {},
     "output_type": "execute_result"
    }
   ],
   "source": [
    "tf = tempfile.NamedTemporaryFile()\n",
    "tf.name"
   ]
  },
  {
   "cell_type": "code",
   "execution_count": 6,
   "metadata": {},
   "outputs": [],
   "source": [
    "import random\n",
    "import string\n",
    "\n",
    "file_name = 'zzz'.join([random.choice(string.ascii_lowercase) for i in range(16)])"
   ]
  },
  {
   "cell_type": "code",
   "execution_count": 7,
   "metadata": {},
   "outputs": [
    {
     "name": "stdout",
     "output_type": "stream",
     "text": [
      " ’®¬ ў гбва®©бвўҐ C ­Ґ Ё¬ҐҐв ¬ҐвЄЁ.\n",
      " ‘ҐаЁ©­л© ­®¬Ґа в®¬ : D264-BEB4\n",
      "\n",
      " ‘®¤Ґа¦Ё¬®Ґ Ї ЇЄЁ C:\\Users\\zzz\n",
      "\n",
      "09.02.2019  13:46    <DIR>          .\n",
      "09.02.2019  13:46    <DIR>          ..\n",
      "29.01.2019  12:18    <DIR>          .anaconda\n",
      "03.02.2019  19:56    <DIR>          .astropy\n",
      "14.01.2019  06:41    <DIR>          .atom\n",
      "05.02.2019  18:17             6я057 .bash_history\n",
      "05.02.2019  20:01    <DIR>          .bluefish\n",
      "09.01.2019  04:28    <DIR>          .CLion2018.3\n",
      "09.02.2019  00:16    <DIR>          .conda\n",
      "08.02.2019  20:58                68 .condarc\n",
      "08.01.2019  23:58    <DIR>          .config\n",
      "05.02.2019  18:33    <DIR>          .continuum\n",
      "07.02.2019  15:54                 0 .cvspass\n",
      "03.02.2019  20:18               126 .defaults-0.1.0.ini\n",
      "28.01.2019  03:35    <DIR>          .designer\n",
      "02.02.2019  14:27    <DIR>          .emacs.d\n",
      "14.01.2019  03:36    <DIR>          .emacs.d.bak\n",
      "07.02.2019  15:16               198 .gitconfig\n",
      "03.02.2019  19:58    <DIR>          .glue\n",
      "02.02.2019  09:13    <DIR>          .GoLand2019.1\n",
      "12.01.2019  01:48             4я953 .hyper.js\n",
      "12.01.2019  01:48    <DIR>          .hyper_plugins\n",
      "08.01.2019  22:09    <DIR>          .idlerc\n",
      "09.02.2019  13:40    <DIR>          .ipynb_checkpoints\n",
      "11.01.2019  21:48    <DIR>          .ipython\n",
      "03.02.2019  19:39    <DIR>          .jupyter\n",
      "11.01.2019  17:41    <DIR>          .kivy\n",
      "12.01.2019  07:29    <DIR>          .local\n",
      "03.02.2019  19:56    <DIR>          .matplotlib\n",
      "11.01.2019  20:50                 0 .node_repl_history\n",
      "10.01.2019  13:22    <DIR>          .now\n",
      "09.01.2019  02:59    <DIR>          .PhpStorm2018.3\n",
      "08.01.2019  23:56    <DIR>          .PyCharm2018.3\n",
      "05.02.2019  23:51                 0 .python_history\n",
      "09.01.2019  10:08    <DIR>          .quokka\n",
      "09.01.2019  03:28    <DIR>          .RubyMine2018.3\n",
      "05.02.2019  23:04    <DIR>          .spyder-py3\n",
      "03.02.2019  20:18    <DIR>          .spyproject\n",
      "09.02.2019  10:26    <DIR>          .ssh\n",
      "09.02.2019  05:43             9я373 .viminfo\n",
      "08.02.2019  11:22    <DIR>          .vipole\n",
      "09.01.2019  08:17    <DIR>          .virtualens\n",
      "05.02.2019  23:57    <DIR>          .virtualenvs\n",
      "09.01.2019  23:07    <DIR>          .vscode\n",
      "26.01.2019  00:43    <DIR>          .vscode-http-client\n",
      "14.01.2019  06:58    <DIR>          .vscode-remote-workspace\n",
      "09.01.2019  02:57    <DIR>          .WebStorm2018.3\n",
      "25.01.2019  21:11    <DIR>          .WebStorm2019.1\n",
      "07.02.2019  16:43               121 .yarnrc\n",
      "25.01.2019  21:11    <DIR>          .yjp\n",
      "28.01.2019  12:09            57я564 41f7b7098a59ecbf29c9cff62a49f954.png\n",
      "11.01.2019  21:01             7я892 All snippets.json\n",
      "07.02.2019  07:41    <DIR>          anaconda-client\n",
      "05.02.2019  22:11         1я205я019 Beautiful Soup.ipynb\n",
      "06.02.2019  01:03           753я380 bs.ipynb\n",
      "31.01.2019  05:54               472 cli.py\n",
      "28.01.2019  00:56    <DIR>          CLionProjects\n",
      "12.01.2019  07:25         1я892я003 composer.phar\n",
      "07.01.2019  20:04    <DIR>          Contacts\n",
      "28.01.2019  09:51    <DIR>          Creative Cloud Files\n",
      "11.01.2019  23:11            10я504 custom-functions.md\n",
      "09.02.2019  08:56    <DIR>          Desktop\n",
      "26.01.2019  05:20    <DIR>          dist\n",
      "29.01.2019  20:08    <DIR>          django-cms-site\n",
      "06.02.2019  17:56    <DIR>          Documents\n",
      "09.02.2019  10:45    <DIR>          Downloads\n",
      "29.01.2019  20:02    <DIR>          env\n",
      "07.01.2019  20:04    <DIR>          Favorites\n",
      "03.02.2019  11:48    <DIR>          go\n",
      "06.02.2019  13:17    <DIR>          heroku-jupyter\n",
      "11.01.2019  21:02               343 jQuery Mobile.json\n",
      "07.02.2019  11:04    <DIR>          jupyterlab\n",
      "11.01.2019  21:06             8я289 kr\n",
      "09.02.2019  05:06    <DIR>          Links\n",
      "11.01.2019  22:14    <DIR>          Music\n",
      "30.01.2019  14:40    <DIR>          MyTact\n",
      "11.01.2019  18:20            29я228 my_kivy.py\n",
      "25.01.2019  22:25    <DIR>          my_site\n",
      "25.01.2019  22:26               936 my_site.lnk\n",
      "27.01.2019  13:31    <DIR>          node_modules\n",
      "27.01.2019  13:31             2я865 package-lock.json\n",
      "06.02.2019  22:32       218я845я019 package_list.cdncache\n",
      "07.02.2019  16:38    <DIR>          PhpstormProjects\n",
      "02.02.2019  08:32    <DIR>          Pictures\n",
      "05.02.2019  18:31    <DIR>          projects\n",
      "06.02.2019  00:05    <DIR>          PycharmProjects\n",
      "28.01.2019  12:36           250я667 python3.html\n",
      "09.01.2019  04:36    <DIR>          RubymineProjects\n",
      "07.01.2019  20:04    <DIR>          Saved Games\n",
      "13.01.2019  01:15                39 script.py\n",
      "07.01.2019  20:04    <DIR>          Searches\n",
      "31.01.2019  05:58             1я392 sftp-config.json\n",
      "25.01.2019  21:14    <DIR>          Snapshots\n",
      "14.01.2019  04:04    <DIR>          spacemacs\n",
      "12.01.2019  19:47    <DIR>          symfony_x\n",
      "14.01.2019  15:04    <DIR>          teee\n",
      "03.02.2019  19:42               581 Untitled.ipynb\n",
      "09.02.2019  13:46             1я526 Untitled1.ipynb\n",
      "29.01.2019  14:24             1я016 Untitled2.ipynb\n",
      "12.01.2019  02:36    <DIR>          UppercaseMaker\n",
      "26.01.2019  08:16               242 urlt.sh\n",
      "30.01.2019  02:48    <DIR>          venv\n",
      "07.01.2019  20:04    <DIR>          Videos\n",
      "10.01.2019  19:14               801 vipole_crash.dump\n",
      "25.01.2019  21:14    <DIR>          WebstormProjects\n",
      "05.02.2019  22:29             4я180 wget.ipynb\n",
      "09.02.2019  12:49    <DIR>          YandexDisk\n",
      "09.01.2019  10:48                90 yarn.lock\n",
      "03.02.2019  20:15    <DIR>          zzz\n",
      "07.02.2019  07:18            22я509 zzz.ipynb\n",
      "05.02.2019  19:50             7я050 zzz.yml\n",
      "14.01.2019  06:09             4я169 _viminfo\n",
      "              36 д ©«®ў    223я128я672 Ў ©в\n",
      "              76 Ї Ї®Є  33я989я636я096 Ў ©в бў®Ў®¤­®\n"
     ]
    }
   ],
   "source": [
    "!dir"
   ]
  }
 ],
 "metadata": {
  "kernelspec": {
   "display_name": "Python 3",
   "language": "python",
   "name": "python3"
  },
  "language_info": {
   "codemirror_mode": {
    "name": "ipython",
    "version": 3
   },
   "file_extension": ".py",
   "mimetype": "text/x-python",
   "name": "python",
   "nbconvert_exporter": "python",
   "pygments_lexer": "ipython3",
   "version": "3.6.8"
  },
  "widgets": {
   "application/vnd.jupyter.widget-state+json": {
    "state": {},
    "version_major": 2,
    "version_minor": 0
   }
  }
 },
 "nbformat": 4,
 "nbformat_minor": 2
}
